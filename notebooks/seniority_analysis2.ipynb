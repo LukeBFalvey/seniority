{
 "cells": [
  {
   "cell_type": "code",
   "execution_count": 53,
   "metadata": {},
   "outputs": [],
   "source": [
    "%matplotlib inline\n",
    "\n",
    "import pandas as pd\n",
    "import warnings \n",
    "import numpy as np\n",
    "from sklearn.feature_extraction.text import TfidfVectorizer\n",
    "from nltk.stem import PorterStemmer\n",
    "\n",
    "warnings.filterwarnings('ignore')"
   ]
  },
  {
   "cell_type": "code",
   "execution_count": 54,
   "metadata": {},
   "outputs": [],
   "source": [
    "df = pd.read_csv('../data/clean_jsm_titles.csv')\n",
    "df = df[['clean_title', 'position_level_code']]\n",
    "df.clean_title = df.clean_title.astype(str)\n",
    "df.clean_title = df.clean_title.astype(str)\n",
    "df.position_level_code = pd.to_numeric(df.position_level_code, errors='coerce')\n",
    "df = df.dropna()"
   ]
  },
  {
   "cell_type": "code",
   "execution_count": 55,
   "metadata": {},
   "outputs": [],
   "source": [
    "ps = PorterStemmer()\n",
    "\n",
    "def stem_and_join(title):\n",
    "    return '_'.join(ps.stem(word) for word in title.split())\n",
    "\n",
    "df.clean_title = df.clean_title.apply(stem_and_join)\n",
    "df = df[df.groupby('clean_title').clean_title.transform(len) > 1]"
   ]
  },
  {
   "cell_type": "code",
   "execution_count": 56,
   "metadata": {},
   "outputs": [],
   "source": [
    "position_level_codes = range(1,7)\n",
    "corpus = [' '.join([title for title in df.clean_title[df.position_level_code == code]]) for code in position_level_codes] "
   ]
  },
  {
   "cell_type": "code",
   "execution_count": 57,
   "metadata": {},
   "outputs": [],
   "source": [
    "vector = TfidfVectorizer().fit(corpus)\n",
    "matrix = vector.transform(corpus)"
   ]
  },
  {
   "cell_type": "code",
   "execution_count": 58,
   "metadata": {},
   "outputs": [],
   "source": [
    "matrix = matrix.tocoo(copy=False)\n",
    "matrix = pd.DataFrame({'position_level': matrix.row, 'vocab_index': matrix.col, 'score': matrix.data})"
   ]
  },
  {
   "cell_type": "code",
   "execution_count": 68,
   "metadata": {},
   "outputs": [
    {
     "data": {
      "text/plain": [
       "field_support_assist                5.0\n",
       "laboratori_shift_leader             5.0\n",
       "senior_room_attend                  5.0\n",
       "temporari_crew                      5.0\n",
       "charg_man_and_mainten_supervisor    5.0\n",
       "dtype: float64"
      ]
     },
     "execution_count": 68,
     "metadata": {},
     "output_type": "execute_result"
    }
   ],
   "source": [
    "scores = matrix.groupby('vocab_index').apply(lambda group : np.average(group['position_level'], weights=group['score']))\n",
    "scores.index = vector.get_feature_names()\n",
    "scores.sort_values(ascending=False).head()"
   ]
  },
  {
   "cell_type": "code",
   "execution_count": 70,
   "metadata": {},
   "outputs": [],
   "source": [
    "min_score = 0\n",
    "max_score = 5\n",
    "\n",
    "scores = scores.apply(lambda score : (max_score - score) / 5) # Invert and normalise"
   ]
  },
  {
   "cell_type": "code",
   "execution_count": 73,
   "metadata": {},
   "outputs": [
    {
     "data": {
      "text/plain": [
       "0.17317793106486706"
      ]
     },
     "execution_count": 73,
     "metadata": {},
     "output_type": "execute_result"
    }
   ],
   "source": [
    "scores.loc['waiter']"
   ]
  },
  {
   "cell_type": "code",
   "execution_count": 74,
   "metadata": {},
   "outputs": [],
   "source": [
    "scores.to_csv('../data/seniority_scores.csv', encoding='utf-8')"
   ]
  }
 ],
 "metadata": {
  "kernelspec": {
   "display_name": "Python 3",
   "language": "python",
   "name": "python3"
  },
  "language_info": {
   "codemirror_mode": {
    "name": "ipython",
    "version": 3
   },
   "file_extension": ".py",
   "mimetype": "text/x-python",
   "name": "python",
   "nbconvert_exporter": "python",
   "pygments_lexer": "ipython3",
   "version": "3.5.2"
  }
 },
 "nbformat": 4,
 "nbformat_minor": 2
}
